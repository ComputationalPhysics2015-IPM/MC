{
 "cells": [
  {
   "cell_type": "code",
   "execution_count": 1,
   "metadata": {
    "collapsed": true
   },
   "outputs": [],
   "source": [
    "import numpy as np\n",
    "import matplotlib.pyplot as plt\n",
    "%matplotlib inline\n",
    "import itertools as itr\n",
    "import doctest"
   ]
  },
  {
   "cell_type": "code",
   "execution_count": 2,
   "metadata": {
    "collapsed": true
   },
   "outputs": [],
   "source": [
    "N = 10\n",
    "M = 100\n",
    "relax = 10*N*N\n",
    "J = 1\n",
    "s = np.ones((N,N), dtype=int)"
   ]
  },
  {
   "cell_type": "code",
   "execution_count": 3,
   "metadata": {
    "collapsed": false
   },
   "outputs": [],
   "source": [
    "def energy(s, J):\n",
    "    '''\n",
    "    Returns the total energy of s.\n",
    "    >>> energy(np.ones((10,10)), J=1)\n",
    "    -400.0\n",
    "    >>> energy(np.ones((10,10)), J=-1)\n",
    "    400.0\n",
    "    '''\n",
    "    E = 0\n",
    "    for i,j in itr.product(range(N),range(N)):\n",
    "        E += s[i,j]*(s[(i+1)%N,j] + s[(i-1),j] + s[i,(j+1)%N] + s[i,(j-1)])\n",
    "    return -J * E"
   ]
  },
  {
   "cell_type": "code",
   "execution_count": 4,
   "metadata": {
    "collapsed": false
   },
   "outputs": [],
   "source": [
    "def flip(s, i, j, beta, J):\n",
    "    '''\n",
    "    Flips spin i,j of matrix s given beta and J.\n",
    "    >>> flip(np.ones((10,10)), 1,1, 0, 1)\n",
    "    True\n",
    "    >>> flip(np.ones((10,10)), 1,1, np.inf, 1)\n",
    "    False\n",
    "    >>> flip(np.ones((10,10)), 1,1, np.inf, -1)\n",
    "    True\n",
    "    >>> flip(np.ones((10,10)), 1,1, 0, -1)\n",
    "    True\n",
    "    '''\n",
    "    E_old = -J * s[i,j]*(s[(i+1)%N,j] + s[(i-1),j] + s[i,(j+1)%N] + s[i,(j-1)])\n",
    "    s[i,j] *= -1\n",
    "    E_new = -J * s[i,j]*(s[(i+1)%N,j] + s[(i-1),j] + s[i,(j+1)%N] + s[i,(j-1)])\n",
    "    delta_E = E_new - E_old\n",
    "    if delta_E > 0:\n",
    "        if np.random.random() > np.exp(-beta*delta_E):\n",
    "            s[i,j] *= -1 # rejecting the move\n",
    "            return False\n",
    "    return True"
   ]
  },
  {
   "cell_type": "code",
   "execution_count": 5,
   "metadata": {
    "collapsed": true
   },
   "outputs": [],
   "source": [
    "def run(n, s, beta, J):\n",
    "    '''\n",
    "    Run the algorithm for n times.\n",
    "    '''\n",
    "    for k in range(n):\n",
    "        i = np.random.randint(N)\n",
    "        j = np.random.randint(N)    \n",
    "        flip(s, i, j, beta, J)"
   ]
  },
  {
   "cell_type": "code",
   "execution_count": 6,
   "metadata": {
    "collapsed": false
   },
   "outputs": [],
   "source": [
    "def cv(E, beta):\n",
    "    return beta**2*E.std()\n",
    "\n",
    "def jack_knife(a,beta,f):\n",
    "    c = np.zeros_like(a)\n",
    "    for i in range(1,len(a)+1):\n",
    "        idx = list(range(i-1))+list(range(i, len(a)))\n",
    "        c[i-1] = f(a[idx],beta)\n",
    "    c0 = f(a,beta)\n",
    "\n",
    "    return(np.sqrt(((c-c0)**2).sum()))"
   ]
  },
  {
   "cell_type": "code",
   "execution_count": 7,
   "metadata": {
    "collapsed": false
   },
   "outputs": [],
   "source": [
    "run(relax, s, 0, J)\n",
    "beta = 1.5**np.arange(-12,3)\n",
    "\n",
    "En = np.zeros_like(beta)\n",
    "En_error = np.zeros_like(beta)\n",
    "Mag = np.zeros_like(beta)\n",
    "C = np.zeros_like(beta)\n",
    "C_error = np.zeros_like(C)\n",
    "\n",
    "for i in range(len(beta)):\n",
    "    run(relax, s, beta[i], J)\n",
    "    E = np.zeros(M)\n",
    "    mag = np.zeros(M)\n",
    "\n",
    "    for m in range(M):\n",
    "        run(relax, s, beta[i], J)\n",
    "        E[m] = energy(s,J)/(N*N)\n",
    "        mag[m] = s.mean()\n",
    "    En[i] = E.mean()\n",
    "    Mag[i] = mag.mean()\n",
    "    C[i] = cv(E,beta[i])\n",
    "    En_error[i] = E.std()/np.sqrt(M)\n",
    "    C_error[i] = jack_knife(E,beta[i],cv)"
   ]
  },
  {
   "cell_type": "code",
   "execution_count": 8,
   "metadata": {
    "collapsed": false
   },
   "outputs": [
    {
     "data": {
      "image/png": "[encoded data removed]",
      "text/plain": [
       "<matplotlib.figure.Figure at 0x7fa39fedc8d0>"
      ]
     },
     "metadata": {},
     "output_type": "display_data"
    }
   ],
   "source": [
    "ax = plt.subplot(1,1,1)\n",
    "ax.errorbar(1/beta, En, yerr=En_error)\n",
    "ax.set_xscale('log')"
   ]
  },
  {
   "cell_type": "code",
   "execution_count": 9,
   "metadata": {
    "collapsed": false
   },
   "outputs": [
    {
     "data": {
      "image/png": "[encoded data removed]",
      "text/plain": [
       "<matplotlib.figure.Figure at 0x7fa39de667b8>"
      ]
     },
     "metadata": {},
     "output_type": "display_data"
    }
   ],
   "source": [
    "ax = plt.subplot(1,1,1)\n",
    "ax.errorbar(1/beta, C, yerr=C_error)\n",
    "ax.set_xscale('log')"
   ]
  },
  {
   "cell_type": "code",
   "execution_count": 10,
   "metadata": {
    "collapsed": false
   },
   "outputs": [
    {
     "data": {
      "text/plain": [
       "[<matplotlib.lines.Line2D at 0x7fa39dcd47f0>]"
      ]
     },
     "execution_count": 10,
     "metadata": {},
     "output_type": "execute_result"
    },
    {
     "data": {
      "image/png": "[encoded data removed]",
      "text/plain": [
       "<matplotlib.figure.Figure at 0x7fa39dc24550>"
      ]
     },
     "metadata": {},
     "output_type": "display_data"
    }
   ],
   "source": [
    "plt.semilogx(1/beta,Mag)"
   ]
  },
  {
   "cell_type": "code",
   "execution_count": 11,
   "metadata": {
    "collapsed": false
   },
   "outputs": [
    {
     "data": {
      "text/plain": [
       "TestResults(failed=0, attempted=6)"
      ]
     },
     "execution_count": 11,
     "metadata": {},
     "output_type": "execute_result"
    }
   ],
   "source": [
    "doctest.testmod()"
   ]
  }
 ],
 "metadata": {
  "kernelspec": {
   "display_name": "Python 3",
   "language": "python",
   "name": "python3"
  },
  "language_info": {
   "codemirror_mode": {
    "name": "ipython",
    "version": 3
   },
   "file_extension": ".py",
   "mimetype": "text/x-python",
   "name": "python",
   "nbconvert_exporter": "python",
   "pygments_lexer": "ipython3",
   "version": "3.4.3+"
  }
 },
 "nbformat": 4,
 "nbformat_minor": 0
}
