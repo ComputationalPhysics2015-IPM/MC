{
 "cells": [
  {
   "cell_type": "markdown",
   "metadata": {},
   "source": [
    "# Exact enumeration\n",
    "\n",
    "We have a one dimentional ising model:\n",
    "\n",
    "$H = J \\sum_{<i,j>} s_i s_j$\n",
    "\n",
    "Enumerate all the states and calculate:\n",
    "\n",
    "$\\langle E(T) \\rangle$\n",
    "\n",
    "knowing that the $p(E) \\propto e^{-\\beta E}$"
   ]
  },
  {
   "cell_type": "code",
   "execution_count": 1,
   "metadata": {
    "collapsed": false
   },
   "outputs": [],
   "source": [
    "import numpy as np\n",
    "import matplotlib.pyplot as plt\n",
    "%matplotlib inline"
   ]
  },
  {
   "cell_type": "markdown",
   "metadata": {},
   "source": [
    "First we need to enumerate all the states:"
   ]
  },
  {
   "cell_type": "code",
   "execution_count": 2,
   "metadata": {
    "collapsed": false
   },
   "outputs": [
    {
     "name": "stdout",
     "output_type": "stream",
     "text": [
      "[-1. -1. -1.]\n",
      "[ 1. -1. -1.]\n",
      "[-1.  1. -1.]\n",
      "[ 1.  1. -1.]\n",
      "[-1. -1.  1.]\n",
      "[ 1. -1.  1.]\n",
      "[-1.  1.  1.]\n",
      "[ 1.  1.  1.]\n"
     ]
    }
   ],
   "source": [
    "N = 3\n",
    "\n",
    "S = np.zeros(N)\n",
    "\n",
    "for i in range(2**N):\n",
    "    for j in range(N):\n",
    "        S[j] = (i >> j) & 1\n",
    "    S = 2 * S - 1\n",
    "    print(S)"
   ]
  },
  {
   "cell_type": "markdown",
   "metadata": {},
   "source": [
    "It worked!\n",
    "Now we calculate the energy of a single state:"
   ]
  },
  {
   "cell_type": "code",
   "execution_count": 3,
   "metadata": {
    "collapsed": false
   },
   "outputs": [],
   "source": [
    "def magnetization(S):\n",
    "    m = S.mean()\n",
    "    return m\n",
    "\n",
    "def energy(S):\n",
    "    E = 0\n",
    "    for i in range(N):\n",
    "        E += J * S[i-1] * S[i]\n",
    "    return E"
   ]
  },
  {
   "cell_type": "markdown",
   "metadata": {},
   "source": [
    "We combine the two codes:"
   ]
  },
  {
   "cell_type": "code",
   "execution_count": 4,
   "metadata": {
    "collapsed": false
   },
   "outputs": [
    {
     "name": "stdout",
     "output_type": "stream",
     "text": [
      "[-1. -1. -1.] -1.0 -3.0\n",
      "[ 1. -1. -1.] -0.333333333333 1.0\n",
      "[-1.  1. -1.] -0.333333333333 1.0\n",
      "[ 1.  1. -1.] 0.333333333333 1.0\n",
      "[-1. -1.  1.] -0.333333333333 1.0\n",
      "[ 1. -1.  1.] 0.333333333333 1.0\n",
      "[-1.  1.  1.] 0.333333333333 1.0\n",
      "[ 1.  1.  1.] 1.0 -3.0\n"
     ]
    }
   ],
   "source": [
    "N = 3\n",
    "J = -1\n",
    "\n",
    "S = np.zeros(N)\n",
    "\n",
    "for i in range(2**N):\n",
    "    for j in range(N):\n",
    "        S[j] = (i >> j) & 1\n",
    "    S = 2 * S - 1\n",
    "    print(S, magnetization(S), energy(S))"
   ]
  },
  {
   "cell_type": "markdown",
   "metadata": {},
   "source": [
    "Now lets calculate expected values:"
   ]
  },
  {
   "cell_type": "code",
   "execution_count": 5,
   "metadata": {
    "collapsed": false
   },
   "outputs": [],
   "source": [
    "N = 4\n",
    "J = -1\n",
    "S = np.zeros(N)\n",
    "\n",
    "E_T = []\n",
    "\n",
    "betas = 2**np.arange(-10,1, 0.1)\n",
    "\n",
    "for beta in betas:\n",
    "    E_exp = 0\n",
    "    Z = 0\n",
    "    for i in range(2**N):\n",
    "        for j in range(N):\n",
    "            S[j] = (i >> j) & 1\n",
    "        S = 2 * S - 1\n",
    "\n",
    "        E = energy(S)\n",
    "        p = np.exp(-beta * E)\n",
    "\n",
    "        E_exp += E*p\n",
    "        Z += p\n",
    "\n",
    "    #print(E_exp/Z)\n",
    "    E_T.append(E_exp/Z)\n",
    "    "
   ]
  },
  {
   "cell_type": "code",
   "execution_count": 6,
   "metadata": {
    "collapsed": false
   },
   "outputs": [
    {
     "data": {
      "image/png": "[encoded data removed]",
      "text/plain": [
       "<matplotlib.figure.Figure at 0x7f48fb7480b8>"
      ]
     },
     "metadata": {},
     "output_type": "display_data"
    }
   ],
   "source": [
    "plt.plot(betas, E_T);"
   ]
  }
 ],
 "metadata": {
  "kernelspec": {
   "display_name": "Python 3",
   "language": "python",
   "name": "python3"
  },
  "language_info": {
   "codemirror_mode": {
    "name": "ipython",
    "version": 3
   },
   "file_extension": ".py",
   "mimetype": "text/x-python",
   "name": "python",
   "nbconvert_exporter": "python",
   "pygments_lexer": "ipython3",
   "version": "3.4.3+"
  }
 },
 "nbformat": 4,
 "nbformat_minor": 0
}
